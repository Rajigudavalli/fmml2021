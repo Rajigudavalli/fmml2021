{
  "nbformat": 4,
  "nbformat_minor": 0,
  "metadata": {
    "colab": {
      "name": "02_Conditional_and_Logical_Operators.ipynb",
      "provenance": [],
      "include_colab_link": true
    },
    "kernelspec": {
      "name": "python3",
      "display_name": "Python 3"
    },
    "language_info": {
      "name": "python"
    }
  },
  "cells": [
    {
      "cell_type": "markdown",
      "metadata": {
        "id": "view-in-github",
        "colab_type": "text"
      },
      "source": [
        "<a href=\"https://colab.research.google.com/github/Rajigudavalli/fmml2021/blob/main/02_Conditional_and_Logical_Operators.ipynb\" target=\"_parent\"><img src=\"https://colab.research.google.com/assets/colab-badge.svg\" alt=\"Open In Colab\"/></a>"
      ]
    },
    {
      "cell_type": "code",
      "metadata": {
        "id": "d_4Xzhe4p5Jh",
        "outputId": "455b319a-91ac-4264-f7f6-4f2838c35e63",
        "colab": {
          "base_uri": "https://localhost:8080/"
        }
      },
      "source": [
        "!python --version"
      ],
      "execution_count": 1,
      "outputs": [
        {
          "output_type": "stream",
          "name": "stdout",
          "text": [
            "Python 3.7.11\n"
          ]
        }
      ]
    },
    {
      "cell_type": "markdown",
      "metadata": {
        "id": "LQ7shzxUfj6N"
      },
      "source": [
        "### Conditional and Logical Operators"
      ]
    },
    {
      "cell_type": "markdown",
      "metadata": {
        "id": "PI0fJw10fswU"
      },
      "source": [
        "#### Conditional Operators\n",
        "```\n",
        "< less than \n",
        "> greater than\n",
        "== equal to\n",
        "!= not equal to\n",
        "<= less than or equal to\n",
        ">= greater than or equal to\n",
        "```\n",
        "\n",
        "\n",
        "\n"
      ]
    },
    {
      "cell_type": "code",
      "metadata": {
        "id": "dm1hT_B9jXGu",
        "outputId": "a1874c89-8ef4-4c0e-b664-78d63ead97ef",
        "colab": {
          "base_uri": "https://localhost:8080/"
        }
      },
      "source": [
        "15 < 5"
      ],
      "execution_count": 2,
      "outputs": [
        {
          "output_type": "execute_result",
          "data": {
            "text/plain": [
              "False"
            ]
          },
          "metadata": {},
          "execution_count": 2
        }
      ]
    },
    {
      "cell_type": "code",
      "metadata": {
        "id": "BjHkFO4SbEhb",
        "outputId": "3679b69b-aa9a-441c-cc6f-6bb156347f36",
        "colab": {
          "base_uri": "https://localhost:8080/"
        }
      },
      "source": [
        "15 > 5"
      ],
      "execution_count": 3,
      "outputs": [
        {
          "output_type": "execute_result",
          "data": {
            "text/plain": [
              "True"
            ]
          },
          "metadata": {},
          "execution_count": 3
        }
      ]
    },
    {
      "cell_type": "code",
      "metadata": {
        "id": "2DtiCXDAbISf",
        "outputId": "4703a549-1ea0-4987-bb33-cd20593b3286",
        "colab": {
          "base_uri": "https://localhost:8080/"
        }
      },
      "source": [
        "15 == 5"
      ],
      "execution_count": 4,
      "outputs": [
        {
          "output_type": "execute_result",
          "data": {
            "text/plain": [
              "False"
            ]
          },
          "metadata": {},
          "execution_count": 4
        }
      ]
    },
    {
      "cell_type": "code",
      "metadata": {
        "id": "4Dc_T_mUbPb1",
        "outputId": "118e9868-0557-41c6-d4fc-c9a6fb91f1f5",
        "colab": {
          "base_uri": "https://localhost:8080/"
        }
      },
      "source": [
        "15 != 5"
      ],
      "execution_count": 5,
      "outputs": [
        {
          "output_type": "execute_result",
          "data": {
            "text/plain": [
              "True"
            ]
          },
          "metadata": {},
          "execution_count": 5
        }
      ]
    },
    {
      "cell_type": "code",
      "metadata": {
        "id": "XSW7YMtabQ4E"
      },
      "source": [
        "akbar_age = 55\n",
        "antony_age = 75"
      ],
      "execution_count": 6,
      "outputs": []
    },
    {
      "cell_type": "code",
      "metadata": {
        "id": "KVCzBU1xbbm0",
        "outputId": "ec33d889-cb42-47dd-c25c-3884ba42989b",
        "colab": {
          "base_uri": "https://localhost:8080/"
        }
      },
      "source": [
        "akbar_age < antony_age"
      ],
      "execution_count": 7,
      "outputs": [
        {
          "output_type": "execute_result",
          "data": {
            "text/plain": [
              "True"
            ]
          },
          "metadata": {},
          "execution_count": 7
        }
      ]
    },
    {
      "cell_type": "code",
      "metadata": {
        "id": "gs2hOefnbnsF",
        "outputId": "cd96c7d7-cb8b-4bc5-e180-397e63816d57",
        "colab": {
          "base_uri": "https://localhost:8080/"
        }
      },
      "source": [
        "(akbar_age > antony_age)"
      ],
      "execution_count": 8,
      "outputs": [
        {
          "output_type": "execute_result",
          "data": {
            "text/plain": [
              "False"
            ]
          },
          "metadata": {},
          "execution_count": 8
        }
      ]
    },
    {
      "cell_type": "markdown",
      "metadata": {
        "id": "ifAKT3zM3_AF"
      },
      "source": [
        "#### Logical Operators\n",
        "```\n",
        "and\n",
        "or\n",
        "not\n",
        "```"
      ]
    },
    {
      "cell_type": "code",
      "metadata": {
        "id": "wy1D4AdmcVyA",
        "outputId": "3762f629-c4fd-4bfa-8cdd-4acf60966ece",
        "colab": {
          "base_uri": "https://localhost:8080/"
        }
      },
      "source": [
        "(akbar_age < 45)"
      ],
      "execution_count": 9,
      "outputs": [
        {
          "output_type": "execute_result",
          "data": {
            "text/plain": [
              "False"
            ]
          },
          "metadata": {},
          "execution_count": 9
        }
      ]
    },
    {
      "cell_type": "code",
      "metadata": {
        "id": "EeBrBGomcYEO",
        "outputId": "a1549f52-e711-45aa-8190-c2e0db9ac40c",
        "colab": {
          "base_uri": "https://localhost:8080/"
        }
      },
      "source": [
        "(antony_age > 50)"
      ],
      "execution_count": 10,
      "outputs": [
        {
          "output_type": "execute_result",
          "data": {
            "text/plain": [
              "True"
            ]
          },
          "metadata": {},
          "execution_count": 10
        }
      ]
    },
    {
      "cell_type": "code",
      "metadata": {
        "id": "O0kjtUXe4K1e",
        "outputId": "f0e915f5-5fcb-48f9-b3ea-abd3d74beef7",
        "colab": {
          "base_uri": "https://localhost:8080/"
        }
      },
      "source": [
        "(akbar_age < 40) or (antony_age > 50)"
      ],
      "execution_count": 11,
      "outputs": [
        {
          "output_type": "execute_result",
          "data": {
            "text/plain": [
              "True"
            ]
          },
          "metadata": {},
          "execution_count": 11
        }
      ]
    },
    {
      "cell_type": "code",
      "metadata": {
        "id": "fB52_Yeo0Bv-",
        "outputId": "0f623952-ce1d-424b-93ee-2a3d1cd51c16",
        "colab": {
          "base_uri": "https://localhost:8080/"
        }
      },
      "source": [
        "False or True"
      ],
      "execution_count": 12,
      "outputs": [
        {
          "output_type": "execute_result",
          "data": {
            "text/plain": [
              "True"
            ]
          },
          "metadata": {},
          "execution_count": 12
        }
      ]
    },
    {
      "cell_type": "code",
      "metadata": {
        "id": "mpBhFHZhcprc",
        "outputId": "1dd14a9c-a6b7-4294-906a-b25cabd2d10e",
        "colab": {
          "base_uri": "https://localhost:8080/"
        }
      },
      "source": [
        "(akbar_age < 40) and (antony_age > 40)"
      ],
      "execution_count": 13,
      "outputs": [
        {
          "output_type": "execute_result",
          "data": {
            "text/plain": [
              "False"
            ]
          },
          "metadata": {},
          "execution_count": 13
        }
      ]
    },
    {
      "cell_type": "code",
      "metadata": {
        "id": "mdkmh4K3ct3-",
        "outputId": "98fd0e6d-6acb-4fd5-c335-5fe1507ab41e",
        "colab": {
          "base_uri": "https://localhost:8080/"
        }
      },
      "source": [
        "False and True"
      ],
      "execution_count": 14,
      "outputs": [
        {
          "output_type": "execute_result",
          "data": {
            "text/plain": [
              "False"
            ]
          },
          "metadata": {},
          "execution_count": 14
        }
      ]
    },
    {
      "cell_type": "code",
      "metadata": {
        "id": "rJUB382Ecz4M",
        "outputId": "855b2614-d24d-44ac-f3e7-ed18c820b1b9",
        "colab": {
          "base_uri": "https://localhost:8080/"
        }
      },
      "source": [
        "not (akbar_age < 40)"
      ],
      "execution_count": 15,
      "outputs": [
        {
          "output_type": "execute_result",
          "data": {
            "text/plain": [
              "True"
            ]
          },
          "metadata": {},
          "execution_count": 15
        }
      ]
    },
    {
      "cell_type": "code",
      "metadata": {
        "id": "TknwOBHtdAPg",
        "outputId": "903458c6-5445-404b-99ec-d66b358091e4",
        "colab": {
          "base_uri": "https://localhost:8080/"
        }
      },
      "source": [
        "not False"
      ],
      "execution_count": 16,
      "outputs": [
        {
          "output_type": "execute_result",
          "data": {
            "text/plain": [
              "True"
            ]
          },
          "metadata": {},
          "execution_count": 16
        }
      ]
    },
    {
      "cell_type": "markdown",
      "metadata": {
        "id": "vUAWMNbjiSvf"
      },
      "source": [
        "#### References"
      ]
    },
    {
      "cell_type": "markdown",
      "metadata": {
        "id": "KmpvkMmKiVcZ"
      },
      "source": [
        "1. [Python Operators](https://www.w3schools.com/python/python_operators.asp) and [Python Exercises](https://www.w3schools.com/python/exercise.asp)\n",
        "2. [Official Python Documentation](https://docs.python.org/3/tutorial/introduction.html)\n",
        "\n"
      ]
    }
  ]
}